{
  "nbformat": 4,
  "nbformat_minor": 0,
  "metadata": {
    "colab": {
      "provenance": [],
      "collapsed_sections": [
        "cczTlQVCzXKx"
      ],
      "authorship_tag": "ABX9TyPm0F8tzTq+fxLbE8fcSr3f",
      "include_colab_link": true
    },
    "kernelspec": {
      "name": "python3",
      "display_name": "Python 3"
    },
    "language_info": {
      "name": "python"
    }
  },
  "cells": [
    {
      "cell_type": "markdown",
      "metadata": {
        "id": "view-in-github",
        "colab_type": "text"
      },
      "source": [
        "<a href=\"https://colab.research.google.com/github/Sakshi1127/almabettercapstoneproject/blob/main/EDA_Hotel_Booking_analysis.ipynb\" target=\"_parent\"><img src=\"https://colab.research.google.com/assets/colab-badge.svg\" alt=\"Open In Colab\"/></a>"
      ]
    },
    {
      "cell_type": "markdown",
      "source": [
        "# **Project Name** - Hotel Booking Analysis"
      ],
      "metadata": {
        "id": "0QXtVqtGwS4o"
      }
    },
    {
      "cell_type": "markdown",
      "source": [
        "##### **Project Type-**  EDA\n",
        "##### **Contribution-** Team\n",
        "##### **Team Member 1-**  Sakshi MahesHwari\n",
        "##### **Team Member 2-** Mohit Wagish\n",
        "##### **Team Member 3-** Harshita Kataria\n",
        "##### **Team Member 4-** Nabakishor Garai\n",
        "##### **Team Member 5-** Avinash Watgure\n"
      ],
      "metadata": {
        "id": "hYMXlsaiwbWS"
      }
    },
    {
      "cell_type": "markdown",
      "source": [
        "# **Project Summary-**"
      ],
      "metadata": {
        "id": "gzZzPMx9x6ZF"
      }
    },
    {
      "cell_type": "markdown",
      "source": [
        "The analysis of a hotel booking data set can provide valuable insights into customer behavior and booking patterns, and inform data-driven decisions aimed at improving hotel performance and profitability. The data set contains information on a variety of factors that can impact daily rates, such as lead time, number of guests, meal type, country of origin, and market segment.\n",
        "\n",
        "Lead time, or the number of days between booking and arrival, is a key factor in determining daily rates. Hotels can use this information to optimize their pricing strategies, for example, by offering discounts for early bookings or premium prices for last-minute bookings.\n",
        "\n",
        "The number of guests staying in the hotel, including adults, children, and babies, can also impact daily rates. This information can help hotels to determine the optimal room and meal offerings to meet the needs of different types of guests.\n",
        "\n",
        "Meal type is another important factor that can influence daily rates. For example, hotels can offer different pricing for bed and breakfast, half board, and full board options. Understanding the preferences of different market segments and countries of origin can also inform product offerings and marketing strategies.\n",
        "\n",
        "The distribution channel and deposit type used by guests can also impact daily rates. For example, hotels can offer lower rates for bookings made directly with the hotel, or for bookings made using a non-refundable deposit.\n",
        "\n",
        "In addition to these factors, the analysis can also provide insights into customer behavior and booking patterns, such as reservation status, customer type, and days in waiting list. For example, hotels can use this information to identify frequent guests and offer loyalty programs, or to manage their inventory of rooms to minimize overbooking or underbooking.\n",
        "\n",
        "The goal of the analysis is to use the data to inform business decisions that will optimize the hotel's revenue and customer satisfaction. This may involve adjusting pricing strategies, improving product offerings, optimizing marketing and distribution channels, and developing more effective customer relationship management programs.\n",
        "\n",
        "In conclusion, the analysis of a hotel booking data set can provide valuable insights into customer behavior and booking patterns, and inform data-driven decisions aimed at improving hotel performance and profitability. By leveraging the information contained in the data set, hotels can optimize their pricing strategies, product offerings, marketing and distribution channels, and customer relationship management programs, ultimately leading to increased revenue and customer satisfaction."
      ],
      "metadata": {
        "id": "PZiIN_-pyM5O"
      }
    },
    {
      "cell_type": "markdown",
      "source": [
        "# **GitHub Link** -"
      ],
      "metadata": {
        "id": "8MN8pQQHyWWZ"
      }
    },
    {
      "cell_type": "markdown",
      "source": [
        "https://github.com/Sakshi1127/almabettercapstoneproject"
      ],
      "metadata": {
        "id": "oiPrl0ySyb_Y"
      }
    },
    {
      "cell_type": "markdown",
      "source": [
        "# **Problem Statement**"
      ],
      "metadata": {
        "id": "CHQOfpxYyhxB"
      }
    },
    {
      "cell_type": "markdown",
      "source": [
        "#### **Define Your Business Objective?**"
      ],
      "metadata": {
        "id": "ZmIHQT7Vyu7j"
      }
    },
    {
      "cell_type": "markdown",
      "source": [
        "The business objective for the analysis of the hotel booking data set is to gain a deeper understanding of customer behavior, identify trends and patterns in bookings, and inform data-driven decisions aimed at improving hotel performance and profitability. This may involve analyzing factors that impact the daily rate, such as lead time, number of guests, meal type, country of origin, and market segment, as well as booking patterns, such as deposit type, reservation status, and customer type. The insights generated from this analysis could inform pricing strategies, product offerings, marketing and distribution channels, and customer relationship management. The goal is to optimize the hotel's revenue and customer satisfaction."
      ],
      "metadata": {
        "id": "Opb3TUj-zT4w"
      }
    },
    {
      "cell_type": "markdown",
      "source": [
        "# **General Guidelines : -**"
      ],
      "metadata": {
        "id": "cczTlQVCzXKx"
      }
    },
    {
      "cell_type": "markdown",
      "source": [
        "1.   Well-structured, formatted, and commented code is required.\n",
        "2.   Exception Handling, Production Grade Code & Deployment Ready Code will be a plus. Those students will be awarded some additional credits.\n",
        "\n",
        "     The additional credits will have advantages over other students during Star Student selection.\n",
        "\n",
        "             [ Note: - Deployment Ready Code is defined as, the whole .ipynb notebook should be executable in one go\n",
        "                       without a single error logged. ]\n",
        "\n",
        "3.   Each and every logic should have proper comments.\n",
        "4. You may add as many number of charts you want. Make Sure for each and every chart the following format should be answered.\n",
        "\n",
        "\n",
        "```\n",
        "# Chart visualization code\n",
        "```\n",
        "\n",
        "\n",
        "*   Why did you pick the specific chart?\n",
        "*   What is/are the insight(s) found from the chart?\n",
        "* Will the gained insights help creating a positive business impact?\n",
        "Are there any insights that lead to negative growth? Justify with specific reason.\n",
        "\n",
        "5. You have to create at least 20 logical & meaningful charts having important insights.\n",
        "\n",
        "\n",
        "[ Hints : - Do the Vizualization in  a structured way while following \"UBM\" Rule.\n",
        "\n",
        "U - Univariate Analysis,\n",
        "\n",
        "B - Bivariate Analysis (Numerical - Categorical, Numerical - Numerical, Categorical - Categorical)\n",
        "\n",
        "M - Multivariate Analysis\n",
        " ]"
      ],
      "metadata": {
        "id": "8KcuEdMXzvBg"
      }
    },
    {
      "cell_type": "markdown",
      "source": [
        "# ***Let's Begin !***|"
      ],
      "metadata": {
        "id": "0G2FUTmwz7bJ"
      }
    },
    {
      "cell_type": "markdown",
      "source": [
        "## ***1. Know Your Data***"
      ],
      "metadata": {
        "id": "XKCcXWDP0Bhn"
      }
    },
    {
      "cell_type": "markdown",
      "source": [
        "### Import Libraries"
      ],
      "metadata": {
        "id": "4LZryhiJ0GfG"
      }
    },
    {
      "cell_type": "code",
      "source": [
        "#import libraries\n",
        "import pandas as pd\n",
        "import numpy as np\n",
        "import matplotlib.pyplot as plt\n",
        "import seaborn as sns"
      ],
      "metadata": {
        "id": "D72Qrox40HTY"
      },
      "execution_count": 2,
      "outputs": []
    },
    {
      "cell_type": "code",
      "source": [
        "from google.colab import drive\n",
        "drive.mount ('/content/drive/')\n",
        "file_path = '/content/drive/MyDrive/SANTS/Hotel Bookings.csv'"
      ],
      "metadata": {
        "colab": {
          "base_uri": "https://localhost:8080/"
        },
        "id": "8sDzs05q0bVX",
        "outputId": "69c0bee2-85ab-463a-b66c-a233ee00cf8b"
      },
      "execution_count": 3,
      "outputs": [
        {
          "output_type": "stream",
          "name": "stdout",
          "text": [
            "Mounted at /content/drive/\n"
          ]
        }
      ]
    },
    {
      "cell_type": "markdown",
      "source": [
        "### Dataset Loading"
      ],
      "metadata": {
        "id": "5BgTyUd21rxO"
      }
    },
    {
      "cell_type": "code",
      "source": [
        "# Load Dataset\n",
        "data_set = pd.read_csv(file_path)"
      ],
      "metadata": {
        "id": "Pa3XFA4_1AKK"
      },
      "execution_count": 4,
      "outputs": []
    },
    {
      "cell_type": "markdown",
      "source": [
        "### Dataset First View"
      ],
      "metadata": {
        "id": "PuShUZUB1w9U"
      }
    },
    {
      "cell_type": "code",
      "source": [
        "# Dataset First Look\n",
        "data_set.head()"
      ],
      "metadata": {
        "colab": {
          "base_uri": "https://localhost:8080/",
          "height": 386
        },
        "id": "m2jiijt11ecK",
        "outputId": "6340f802-2cc6-4afa-b519-6936acf58f12"
      },
      "execution_count": 5,
      "outputs": [
        {
          "output_type": "execute_result",
          "data": {
            "text/plain": [
              "          hotel  is_canceled  lead_time  arrival_date_year arrival_date_month  \\\n",
              "0  Resort Hotel            0        342               2015               July   \n",
              "1  Resort Hotel            0        737               2015               July   \n",
              "2  Resort Hotel            0          7               2015               July   \n",
              "3  Resort Hotel            0         13               2015               July   \n",
              "4  Resort Hotel            0         14               2015               July   \n",
              "\n",
              "   arrival_date_week_number  arrival_date_day_of_month  \\\n",
              "0                        27                          1   \n",
              "1                        27                          1   \n",
              "2                        27                          1   \n",
              "3                        27                          1   \n",
              "4                        27                          1   \n",
              "\n",
              "   stays_in_weekend_nights  stays_in_week_nights  adults  ...  deposit_type  \\\n",
              "0                        0                     0       2  ...    No Deposit   \n",
              "1                        0                     0       2  ...    No Deposit   \n",
              "2                        0                     1       1  ...    No Deposit   \n",
              "3                        0                     1       1  ...    No Deposit   \n",
              "4                        0                     2       2  ...    No Deposit   \n",
              "\n",
              "   agent company days_in_waiting_list customer_type   adr  \\\n",
              "0    NaN     NaN                    0     Transient   0.0   \n",
              "1    NaN     NaN                    0     Transient   0.0   \n",
              "2    NaN     NaN                    0     Transient  75.0   \n",
              "3  304.0     NaN                    0     Transient  75.0   \n",
              "4  240.0     NaN                    0     Transient  98.0   \n",
              "\n",
              "   required_car_parking_spaces  total_of_special_requests  reservation_status  \\\n",
              "0                            0                          0           Check-Out   \n",
              "1                            0                          0           Check-Out   \n",
              "2                            0                          0           Check-Out   \n",
              "3                            0                          0           Check-Out   \n",
              "4                            0                          1           Check-Out   \n",
              "\n",
              "  reservation_status_date  \n",
              "0              2015-07-01  \n",
              "1              2015-07-01  \n",
              "2              2015-07-02  \n",
              "3              2015-07-02  \n",
              "4              2015-07-03  \n",
              "\n",
              "[5 rows x 32 columns]"
            ],
            "text/html": [
              "\n",
              "  <div id=\"df-73e1151d-d3e8-4a2e-a5f8-4ea3f0dd06bc\">\n",
              "    <div class=\"colab-df-container\">\n",
              "      <div>\n",
              "<style scoped>\n",
              "    .dataframe tbody tr th:only-of-type {\n",
              "        vertical-align: middle;\n",
              "    }\n",
              "\n",
              "    .dataframe tbody tr th {\n",
              "        vertical-align: top;\n",
              "    }\n",
              "\n",
              "    .dataframe thead th {\n",
              "        text-align: right;\n",
              "    }\n",
              "</style>\n",
              "<table border=\"1\" class=\"dataframe\">\n",
              "  <thead>\n",
              "    <tr style=\"text-align: right;\">\n",
              "      <th></th>\n",
              "      <th>hotel</th>\n",
              "      <th>is_canceled</th>\n",
              "      <th>lead_time</th>\n",
              "      <th>arrival_date_year</th>\n",
              "      <th>arrival_date_month</th>\n",
              "      <th>arrival_date_week_number</th>\n",
              "      <th>arrival_date_day_of_month</th>\n",
              "      <th>stays_in_weekend_nights</th>\n",
              "      <th>stays_in_week_nights</th>\n",
              "      <th>adults</th>\n",
              "      <th>...</th>\n",
              "      <th>deposit_type</th>\n",
              "      <th>agent</th>\n",
              "      <th>company</th>\n",
              "      <th>days_in_waiting_list</th>\n",
              "      <th>customer_type</th>\n",
              "      <th>adr</th>\n",
              "      <th>required_car_parking_spaces</th>\n",
              "      <th>total_of_special_requests</th>\n",
              "      <th>reservation_status</th>\n",
              "      <th>reservation_status_date</th>\n",
              "    </tr>\n",
              "  </thead>\n",
              "  <tbody>\n",
              "    <tr>\n",
              "      <th>0</th>\n",
              "      <td>Resort Hotel</td>\n",
              "      <td>0</td>\n",
              "      <td>342</td>\n",
              "      <td>2015</td>\n",
              "      <td>July</td>\n",
              "      <td>27</td>\n",
              "      <td>1</td>\n",
              "      <td>0</td>\n",
              "      <td>0</td>\n",
              "      <td>2</td>\n",
              "      <td>...</td>\n",
              "      <td>No Deposit</td>\n",
              "      <td>NaN</td>\n",
              "      <td>NaN</td>\n",
              "      <td>0</td>\n",
              "      <td>Transient</td>\n",
              "      <td>0.0</td>\n",
              "      <td>0</td>\n",
              "      <td>0</td>\n",
              "      <td>Check-Out</td>\n",
              "      <td>2015-07-01</td>\n",
              "    </tr>\n",
              "    <tr>\n",
              "      <th>1</th>\n",
              "      <td>Resort Hotel</td>\n",
              "      <td>0</td>\n",
              "      <td>737</td>\n",
              "      <td>2015</td>\n",
              "      <td>July</td>\n",
              "      <td>27</td>\n",
              "      <td>1</td>\n",
              "      <td>0</td>\n",
              "      <td>0</td>\n",
              "      <td>2</td>\n",
              "      <td>...</td>\n",
              "      <td>No Deposit</td>\n",
              "      <td>NaN</td>\n",
              "      <td>NaN</td>\n",
              "      <td>0</td>\n",
              "      <td>Transient</td>\n",
              "      <td>0.0</td>\n",
              "      <td>0</td>\n",
              "      <td>0</td>\n",
              "      <td>Check-Out</td>\n",
              "      <td>2015-07-01</td>\n",
              "    </tr>\n",
              "    <tr>\n",
              "      <th>2</th>\n",
              "      <td>Resort Hotel</td>\n",
              "      <td>0</td>\n",
              "      <td>7</td>\n",
              "      <td>2015</td>\n",
              "      <td>July</td>\n",
              "      <td>27</td>\n",
              "      <td>1</td>\n",
              "      <td>0</td>\n",
              "      <td>1</td>\n",
              "      <td>1</td>\n",
              "      <td>...</td>\n",
              "      <td>No Deposit</td>\n",
              "      <td>NaN</td>\n",
              "      <td>NaN</td>\n",
              "      <td>0</td>\n",
              "      <td>Transient</td>\n",
              "      <td>75.0</td>\n",
              "      <td>0</td>\n",
              "      <td>0</td>\n",
              "      <td>Check-Out</td>\n",
              "      <td>2015-07-02</td>\n",
              "    </tr>\n",
              "    <tr>\n",
              "      <th>3</th>\n",
              "      <td>Resort Hotel</td>\n",
              "      <td>0</td>\n",
              "      <td>13</td>\n",
              "      <td>2015</td>\n",
              "      <td>July</td>\n",
              "      <td>27</td>\n",
              "      <td>1</td>\n",
              "      <td>0</td>\n",
              "      <td>1</td>\n",
              "      <td>1</td>\n",
              "      <td>...</td>\n",
              "      <td>No Deposit</td>\n",
              "      <td>304.0</td>\n",
              "      <td>NaN</td>\n",
              "      <td>0</td>\n",
              "      <td>Transient</td>\n",
              "      <td>75.0</td>\n",
              "      <td>0</td>\n",
              "      <td>0</td>\n",
              "      <td>Check-Out</td>\n",
              "      <td>2015-07-02</td>\n",
              "    </tr>\n",
              "    <tr>\n",
              "      <th>4</th>\n",
              "      <td>Resort Hotel</td>\n",
              "      <td>0</td>\n",
              "      <td>14</td>\n",
              "      <td>2015</td>\n",
              "      <td>July</td>\n",
              "      <td>27</td>\n",
              "      <td>1</td>\n",
              "      <td>0</td>\n",
              "      <td>2</td>\n",
              "      <td>2</td>\n",
              "      <td>...</td>\n",
              "      <td>No Deposit</td>\n",
              "      <td>240.0</td>\n",
              "      <td>NaN</td>\n",
              "      <td>0</td>\n",
              "      <td>Transient</td>\n",
              "      <td>98.0</td>\n",
              "      <td>0</td>\n",
              "      <td>1</td>\n",
              "      <td>Check-Out</td>\n",
              "      <td>2015-07-03</td>\n",
              "    </tr>\n",
              "  </tbody>\n",
              "</table>\n",
              "<p>5 rows × 32 columns</p>\n",
              "</div>\n",
              "      <button class=\"colab-df-convert\" onclick=\"convertToInteractive('df-73e1151d-d3e8-4a2e-a5f8-4ea3f0dd06bc')\"\n",
              "              title=\"Convert this dataframe to an interactive table.\"\n",
              "              style=\"display:none;\">\n",
              "        \n",
              "  <svg xmlns=\"http://www.w3.org/2000/svg\" height=\"24px\"viewBox=\"0 0 24 24\"\n",
              "       width=\"24px\">\n",
              "    <path d=\"M0 0h24v24H0V0z\" fill=\"none\"/>\n",
              "    <path d=\"M18.56 5.44l.94 2.06.94-2.06 2.06-.94-2.06-.94-.94-2.06-.94 2.06-2.06.94zm-11 1L8.5 8.5l.94-2.06 2.06-.94-2.06-.94L8.5 2.5l-.94 2.06-2.06.94zm10 10l.94 2.06.94-2.06 2.06-.94-2.06-.94-.94-2.06-.94 2.06-2.06.94z\"/><path d=\"M17.41 7.96l-1.37-1.37c-.4-.4-.92-.59-1.43-.59-.52 0-1.04.2-1.43.59L10.3 9.45l-7.72 7.72c-.78.78-.78 2.05 0 2.83L4 21.41c.39.39.9.59 1.41.59.51 0 1.02-.2 1.41-.59l7.78-7.78 2.81-2.81c.8-.78.8-2.07 0-2.86zM5.41 20L4 18.59l7.72-7.72 1.47 1.35L5.41 20z\"/>\n",
              "  </svg>\n",
              "      </button>\n",
              "      \n",
              "  <style>\n",
              "    .colab-df-container {\n",
              "      display:flex;\n",
              "      flex-wrap:wrap;\n",
              "      gap: 12px;\n",
              "    }\n",
              "\n",
              "    .colab-df-convert {\n",
              "      background-color: #E8F0FE;\n",
              "      border: none;\n",
              "      border-radius: 50%;\n",
              "      cursor: pointer;\n",
              "      display: none;\n",
              "      fill: #1967D2;\n",
              "      height: 32px;\n",
              "      padding: 0 0 0 0;\n",
              "      width: 32px;\n",
              "    }\n",
              "\n",
              "    .colab-df-convert:hover {\n",
              "      background-color: #E2EBFA;\n",
              "      box-shadow: 0px 1px 2px rgba(60, 64, 67, 0.3), 0px 1px 3px 1px rgba(60, 64, 67, 0.15);\n",
              "      fill: #174EA6;\n",
              "    }\n",
              "\n",
              "    [theme=dark] .colab-df-convert {\n",
              "      background-color: #3B4455;\n",
              "      fill: #D2E3FC;\n",
              "    }\n",
              "\n",
              "    [theme=dark] .colab-df-convert:hover {\n",
              "      background-color: #434B5C;\n",
              "      box-shadow: 0px 1px 3px 1px rgba(0, 0, 0, 0.15);\n",
              "      filter: drop-shadow(0px 1px 2px rgba(0, 0, 0, 0.3));\n",
              "      fill: #FFFFFF;\n",
              "    }\n",
              "  </style>\n",
              "\n",
              "      <script>\n",
              "        const buttonEl =\n",
              "          document.querySelector('#df-73e1151d-d3e8-4a2e-a5f8-4ea3f0dd06bc button.colab-df-convert');\n",
              "        buttonEl.style.display =\n",
              "          google.colab.kernel.accessAllowed ? 'block' : 'none';\n",
              "\n",
              "        async function convertToInteractive(key) {\n",
              "          const element = document.querySelector('#df-73e1151d-d3e8-4a2e-a5f8-4ea3f0dd06bc');\n",
              "          const dataTable =\n",
              "            await google.colab.kernel.invokeFunction('convertToInteractive',\n",
              "                                                     [key], {});\n",
              "          if (!dataTable) return;\n",
              "\n",
              "          const docLinkHtml = 'Like what you see? Visit the ' +\n",
              "            '<a target=\"_blank\" href=https://colab.research.google.com/notebooks/data_table.ipynb>data table notebook</a>'\n",
              "            + ' to learn more about interactive tables.';\n",
              "          element.innerHTML = '';\n",
              "          dataTable['output_type'] = 'display_data';\n",
              "          await google.colab.output.renderOutput(dataTable, element);\n",
              "          const docLink = document.createElement('div');\n",
              "          docLink.innerHTML = docLinkHtml;\n",
              "          element.appendChild(docLink);\n",
              "        }\n",
              "      </script>\n",
              "    </div>\n",
              "  </div>\n",
              "  "
            ]
          },
          "metadata": {},
          "execution_count": 5
        }
      ]
    },
    {
      "cell_type": "markdown",
      "source": [
        "### Dataset Rows & Columns count"
      ],
      "metadata": {
        "id": "t67wwcZB2aPA"
      }
    },
    {
      "cell_type": "code",
      "source": [
        "#count the dataset rows and columns\n",
        "data_set.shape"
      ],
      "metadata": {
        "colab": {
          "base_uri": "https://localhost:8080/"
        },
        "id": "YxL0CWqu2a70",
        "outputId": "f3421095-89fa-495f-e6a0-30b58c3ee5c8"
      },
      "execution_count": 6,
      "outputs": [
        {
          "output_type": "execute_result",
          "data": {
            "text/plain": [
              "(119390, 32)"
            ]
          },
          "metadata": {},
          "execution_count": 6
        }
      ]
    },
    {
      "cell_type": "markdown",
      "source": [
        "### Dataset Information"
      ],
      "metadata": {
        "id": "xBk2f_U82taa"
      }
    },
    {
      "cell_type": "code",
      "source": [
        "#information about the dataset\n",
        "data_set.info()"
      ],
      "metadata": {
        "colab": {
          "base_uri": "https://localhost:8080/"
        },
        "id": "FFg0GzSR2udj",
        "outputId": "22b88bc2-9e5f-471c-ca1c-13b24054fba9"
      },
      "execution_count": 7,
      "outputs": [
        {
          "output_type": "stream",
          "name": "stdout",
          "text": [
            "<class 'pandas.core.frame.DataFrame'>\n",
            "RangeIndex: 119390 entries, 0 to 119389\n",
            "Data columns (total 32 columns):\n",
            " #   Column                          Non-Null Count   Dtype  \n",
            "---  ------                          --------------   -----  \n",
            " 0   hotel                           119390 non-null  object \n",
            " 1   is_canceled                     119390 non-null  int64  \n",
            " 2   lead_time                       119390 non-null  int64  \n",
            " 3   arrival_date_year               119390 non-null  int64  \n",
            " 4   arrival_date_month              119390 non-null  object \n",
            " 5   arrival_date_week_number        119390 non-null  int64  \n",
            " 6   arrival_date_day_of_month       119390 non-null  int64  \n",
            " 7   stays_in_weekend_nights         119390 non-null  int64  \n",
            " 8   stays_in_week_nights            119390 non-null  int64  \n",
            " 9   adults                          119390 non-null  int64  \n",
            " 10  children                        119386 non-null  float64\n",
            " 11  babies                          119390 non-null  int64  \n",
            " 12  meal                            119390 non-null  object \n",
            " 13  country                         118902 non-null  object \n",
            " 14  market_segment                  119390 non-null  object \n",
            " 15  distribution_channel            119390 non-null  object \n",
            " 16  is_repeated_guest               119390 non-null  int64  \n",
            " 17  previous_cancellations          119390 non-null  int64  \n",
            " 18  previous_bookings_not_canceled  119390 non-null  int64  \n",
            " 19  reserved_room_type              119390 non-null  object \n",
            " 20  assigned_room_type              119390 non-null  object \n",
            " 21  booking_changes                 119390 non-null  int64  \n",
            " 22  deposit_type                    119390 non-null  object \n",
            " 23  agent                           103050 non-null  float64\n",
            " 24  company                         6797 non-null    float64\n",
            " 25  days_in_waiting_list            119390 non-null  int64  \n",
            " 26  customer_type                   119390 non-null  object \n",
            " 27  adr                             119390 non-null  float64\n",
            " 28  required_car_parking_spaces     119390 non-null  int64  \n",
            " 29  total_of_special_requests       119390 non-null  int64  \n",
            " 30  reservation_status              119390 non-null  object \n",
            " 31  reservation_status_date         119390 non-null  object \n",
            "dtypes: float64(4), int64(16), object(12)\n",
            "memory usage: 29.1+ MB\n"
          ]
        }
      ]
    },
    {
      "cell_type": "code",
      "source": [
        "data_set.hotel.value_counts()"
      ],
      "metadata": {
        "colab": {
          "base_uri": "https://localhost:8080/"
        },
        "id": "X-S-OT3q3Fii",
        "outputId": "335a1d96-0ba2-4c47-d428-d42a5c414531"
      },
      "execution_count": 8,
      "outputs": [
        {
          "output_type": "execute_result",
          "data": {
            "text/plain": [
              "City Hotel      79330\n",
              "Resort Hotel    40060\n",
              "Name: hotel, dtype: int64"
            ]
          },
          "metadata": {},
          "execution_count": 8
        }
      ]
    },
    {
      "cell_type": "code",
      "source": [
        "data_set.meal.value_counts()"
      ],
      "metadata": {
        "colab": {
          "base_uri": "https://localhost:8080/"
        },
        "id": "oPucPHVVP3MP",
        "outputId": "f0370589-9a34-467c-ecb7-f82a4a665d97"
      },
      "execution_count": 9,
      "outputs": [
        {
          "output_type": "execute_result",
          "data": {
            "text/plain": [
              "BB           92310\n",
              "HB           14463\n",
              "SC           10650\n",
              "Undefined     1169\n",
              "FB             798\n",
              "Name: meal, dtype: int64"
            ]
          },
          "metadata": {},
          "execution_count": 9
        }
      ]
    },
    {
      "cell_type": "code",
      "source": [
        "data_set.market_segment.value_counts()"
      ],
      "metadata": {
        "colab": {
          "base_uri": "https://localhost:8080/"
        },
        "id": "-PZRvhS8Qc58",
        "outputId": "d632d7fd-dec0-497d-c291-6944ef2dadf0"
      },
      "execution_count": 10,
      "outputs": [
        {
          "output_type": "execute_result",
          "data": {
            "text/plain": [
              "Online TA        56477\n",
              "Offline TA/TO    24219\n",
              "Groups           19811\n",
              "Direct           12606\n",
              "Corporate         5295\n",
              "Complementary      743\n",
              "Aviation           237\n",
              "Undefined            2\n",
              "Name: market_segment, dtype: int64"
            ]
          },
          "metadata": {},
          "execution_count": 10
        }
      ]
    },
    {
      "cell_type": "code",
      "source": [
        "data_set.distribution_channel.value_counts()"
      ],
      "metadata": {
        "colab": {
          "base_uri": "https://localhost:8080/"
        },
        "id": "t1oTjVdWQqaT",
        "outputId": "baba95e9-340f-4706-d59d-dcb68e4fb6b6"
      },
      "execution_count": 11,
      "outputs": [
        {
          "output_type": "execute_result",
          "data": {
            "text/plain": [
              "TA/TO        97870\n",
              "Direct       14645\n",
              "Corporate     6677\n",
              "GDS            193\n",
              "Undefined        5\n",
              "Name: distribution_channel, dtype: int64"
            ]
          },
          "metadata": {},
          "execution_count": 11
        }
      ]
    },
    {
      "cell_type": "code",
      "source": [
        "data_set.deposit_type.value_counts()"
      ],
      "metadata": {
        "colab": {
          "base_uri": "https://localhost:8080/"
        },
        "id": "UNBF-zbIQ2ox",
        "outputId": "d87a62c9-5080-4f73-f841-380c9a5823d0"
      },
      "execution_count": 12,
      "outputs": [
        {
          "output_type": "execute_result",
          "data": {
            "text/plain": [
              "No Deposit    104641\n",
              "Non Refund     14587\n",
              "Refundable       162\n",
              "Name: deposit_type, dtype: int64"
            ]
          },
          "metadata": {},
          "execution_count": 12
        }
      ]
    },
    {
      "cell_type": "code",
      "source": [
        "data_set.reservation_status.value_counts()"
      ],
      "metadata": {
        "colab": {
          "base_uri": "https://localhost:8080/"
        },
        "id": "YIMrHdGrRE_G",
        "outputId": "d8bfb4cc-c285-49ba-8609-52e2fc39fa52"
      },
      "execution_count": 13,
      "outputs": [
        {
          "output_type": "execute_result",
          "data": {
            "text/plain": [
              "Check-Out    75166\n",
              "Canceled     43017\n",
              "No-Show       1207\n",
              "Name: reservation_status, dtype: int64"
            ]
          },
          "metadata": {},
          "execution_count": 13
        }
      ]
    },
    {
      "cell_type": "markdown",
      "source": [
        "#### Duplicate values"
      ],
      "metadata": {
        "id": "2Aql4z1hSWmr"
      }
    },
    {
      "cell_type": "code",
      "source": [
        "#Dataset duplicate values count\n",
        "data_set.duplicated().value_counts()"
      ],
      "metadata": {
        "colab": {
          "base_uri": "https://localhost:8080/"
        },
        "id": "5unE6dyyScMA",
        "outputId": "72ec15ad-f2e6-4d62-d55c-9f76b53f1764"
      },
      "execution_count": 14,
      "outputs": [
        {
          "output_type": "execute_result",
          "data": {
            "text/plain": [
              "False    87396\n",
              "True     31994\n",
              "dtype: int64"
            ]
          },
          "metadata": {},
          "execution_count": 14
        }
      ]
    },
    {
      "cell_type": "code",
      "source": [
        "# Missing values/Null values count and sort them into the descending order\n",
        "data_set.isna().sum().sort_values(ascending=False)"
      ],
      "metadata": {
        "colab": {
          "base_uri": "https://localhost:8080/"
        },
        "id": "ZhO-nwkaSymR",
        "outputId": "cf1da63a-190f-4e75-cd75-19aabf6d744a"
      },
      "execution_count": 15,
      "outputs": [
        {
          "output_type": "execute_result",
          "data": {
            "text/plain": [
              "company                           112593\n",
              "agent                              16340\n",
              "country                              488\n",
              "children                               4\n",
              "reserved_room_type                     0\n",
              "assigned_room_type                     0\n",
              "booking_changes                        0\n",
              "deposit_type                           0\n",
              "hotel                                  0\n",
              "previous_cancellations                 0\n",
              "days_in_waiting_list                   0\n",
              "customer_type                          0\n",
              "adr                                    0\n",
              "required_car_parking_spaces            0\n",
              "total_of_special_requests              0\n",
              "reservation_status                     0\n",
              "previous_bookings_not_canceled         0\n",
              "is_repeated_guest                      0\n",
              "is_canceled                            0\n",
              "distribution_channel                   0\n",
              "market_segment                         0\n",
              "meal                                   0\n",
              "babies                                 0\n",
              "adults                                 0\n",
              "stays_in_week_nights                   0\n",
              "stays_in_weekend_nights                0\n",
              "arrival_date_day_of_month              0\n",
              "arrival_date_week_number               0\n",
              "arrival_date_month                     0\n",
              "arrival_date_year                      0\n",
              "lead_time                              0\n",
              "reservation_status_date                0\n",
              "dtype: int64"
            ]
          },
          "metadata": {},
          "execution_count": 15
        }
      ]
    },
    {
      "cell_type": "code",
      "source": [
        "# Visualizing the missing values\n",
        "print(data_set.isnull().sum().sort_values(ascending=False))\n",
        "# Calculate the percentage of missing values in each column\n",
        "missing_values_percentage = data_set.isnull().mean().sort_values(ascending=False)\n",
        "\n",
        "# Plot the missing values as a bar chart\n",
        "missing_values_percentage[:4].plot(kind=\"bar\", figsize=(10,5))\n",
        "plt.title(\"Percentage of Missing Values per Feature\")\n",
        "plt.xlabel(\"Features\")\n",
        "plt.ylabel(\"Percentage of Missing Values\")\n",
        "plt.show()"
      ],
      "metadata": {
        "colab": {
          "base_uri": "https://localhost:8080/",
          "height": 1000
        },
        "id": "dZJfbiTzV7ow",
        "outputId": "c0ba5cf0-a4a9-4822-e2f0-5c002d0045be"
      },
      "execution_count": 16,
      "outputs": [
        {
          "output_type": "stream",
          "name": "stdout",
          "text": [
            "company                           112593\n",
            "agent                              16340\n",
            "country                              488\n",
            "children                               4\n",
            "reserved_room_type                     0\n",
            "assigned_room_type                     0\n",
            "booking_changes                        0\n",
            "deposit_type                           0\n",
            "hotel                                  0\n",
            "previous_cancellations                 0\n",
            "days_in_waiting_list                   0\n",
            "customer_type                          0\n",
            "adr                                    0\n",
            "required_car_parking_spaces            0\n",
            "total_of_special_requests              0\n",
            "reservation_status                     0\n",
            "previous_bookings_not_canceled         0\n",
            "is_repeated_guest                      0\n",
            "is_canceled                            0\n",
            "distribution_channel                   0\n",
            "market_segment                         0\n",
            "meal                                   0\n",
            "babies                                 0\n",
            "adults                                 0\n",
            "stays_in_week_nights                   0\n",
            "stays_in_weekend_nights                0\n",
            "arrival_date_day_of_month              0\n",
            "arrival_date_week_number               0\n",
            "arrival_date_month                     0\n",
            "arrival_date_year                      0\n",
            "lead_time                              0\n",
            "reservation_status_date                0\n",
            "dtype: int64\n"
          ]
        },
        {
          "output_type": "display_data",
          "data": {
            "text/plain": [
              "<Figure size 1000x500 with 1 Axes>"
            ],
            "image/png": "[encoded data removed]"
          },
          "metadata": {}
        }
      ]
    },
    {
      "cell_type": "markdown",
      "source": [
        "### What did you know about your dataset?"
      ],
      "metadata": {
        "id": "fjRs7SffZcpO"
      }
    },
    {
      "cell_type": "markdown",
      "source": [
        "The hotel booking dataset can provide valuable insights into various aspects of hotel operations and customer behavior. Some key information that can be obtained from this dataset include:\n",
        "\n",
        "Booking patterns: The data can provide information on when and how guests are booking rooms, including lead time, arrival date and day of the week, and deposit type. This information can be used to identify booking trends and patterns, and inform pricing and inventory management strategies.\n",
        "\n",
        "Guest demographics: The data contains information on the number of guests, including adults, children, and babies, as well as the country of origin, market segment, and customer type. This information can be used to understand the needs and preferences of different types of guests, and inform product offerings and marketing strategies.\n",
        "\n",
        "Room and meal preferences: The data includes information on the reserved and assigned room types, as well as the meal type selected by guests. This information can be used to understand the preferences of different types of guests, and inform room and meal offerings.\n",
        "\n",
        "Reservation status: The data includes information on the reservation status of each booking, including canceled and non-canceled bookings, as well as the number of previous cancellations and bookings. This information can be used to understand the reasons behind cancellations and inform customer relationship management strategies.\n",
        "\n",
        "Pricing and revenue: The data includes information on the daily rate charged to guests, as well as the number of days in waiting list, and the deposit type. This information can be used to understand the factors that impact pricing and revenue, and inform pricing strategies.\n",
        "\n",
        "Overall, the hotel booking dataset can provide valuable insights into a wide range of hotel operations, from booking patterns and guest demographics, to room and meal preferences, reservation status, and pricing and revenue. This information can be used to inform data-driven decisions aimed at improving hotel performance and profitability.\n"
      ],
      "metadata": {
        "id": "kZteLYEFZeo2"
      }
    },
    {
      "cell_type": "markdown",
      "source": [
        "## ***2. Understanding Your Variables***\n"
      ],
      "metadata": {
        "id": "seU7r6m0Z7_y"
      }
    },
    {
      "cell_type": "code",
      "source": [
        "# Dataset Columns\n",
        "data_set.columns"
      ],
      "metadata": {
        "colab": {
          "base_uri": "https://localhost:8080/"
        },
        "id": "o43EjPlhZ9wD",
        "outputId": "8e9f0434-9446-461c-d5f3-93e98404309c"
      },
      "execution_count": 17,
      "outputs": [
        {
          "output_type": "execute_result",
          "data": {
            "text/plain": [
              "Index(['hotel', 'is_canceled', 'lead_time', 'arrival_date_year',\n",
              "       'arrival_date_month', 'arrival_date_week_number',\n",
              "       'arrival_date_day_of_month', 'stays_in_weekend_nights',\n",
              "       'stays_in_week_nights', 'adults', 'children', 'babies', 'meal',\n",
              "       'country', 'market_segment', 'distribution_channel',\n",
              "       'is_repeated_guest', 'previous_cancellations',\n",
              "       'previous_bookings_not_canceled', 'reserved_room_type',\n",
              "       'assigned_room_type', 'booking_changes', 'deposit_type', 'agent',\n",
              "       'company', 'days_in_waiting_list', 'customer_type', 'adr',\n",
              "       'required_car_parking_spaces', 'total_of_special_requests',\n",
              "       'reservation_status', 'reservation_status_date'],\n",
              "      dtype='object')"
            ]
          },
          "metadata": {},
          "execution_count": 17
        }
      ]
    },
    {
      "cell_type": "code",
      "source": [
        "# Dataset Describe\n",
        "data_set.describe()"
      ],
      "metadata": {
        "colab": {
          "base_uri": "https://localhost:8080/",
          "height": 364
        },
        "id": "kyJXRBXaaBGs",
        "outputId": "1b46b935-f855-4361-cfdb-d0a4c637e0a1"
      },
      "execution_count": 18,
      "outputs": [
        {
          "output_type": "execute_result",
          "data": {
            "text/plain": [
              "         is_canceled      lead_time  arrival_date_year  \\\n",
              "count  119390.000000  119390.000000      119390.000000   \n",
              "mean        0.370416     104.011416        2016.156554   \n",
              "std         0.482918     106.863097           0.707476   \n",
              "min         0.000000       0.000000        2015.000000   \n",
              "25%         0.000000      18.000000        2016.000000   \n",
              "50%         0.000000      69.000000        2016.000000   \n",
              "75%         1.000000     160.000000        2017.000000   \n",
              "max         1.000000     737.000000        2017.000000   \n",
              "\n",
              "       arrival_date_week_number  arrival_date_day_of_month  \\\n",
              "count             119390.000000              119390.000000   \n",
              "mean                  27.165173                  15.798241   \n",
              "std                   13.605138                   8.780829   \n",
              "min                    1.000000                   1.000000   \n",
              "25%                   16.000000                   8.000000   \n",
              "50%                   28.000000                  16.000000   \n",
              "75%                   38.000000                  23.000000   \n",
              "max                   53.000000                  31.000000   \n",
              "\n",
              "       stays_in_weekend_nights  stays_in_week_nights         adults  \\\n",
              "count            119390.000000         119390.000000  119390.000000   \n",
              "mean                  0.927599              2.500302       1.856403   \n",
              "std                   0.998613              1.908286       0.579261   \n",
              "min                   0.000000              0.000000       0.000000   \n",
              "25%                   0.000000              1.000000       2.000000   \n",
              "50%                   1.000000              2.000000       2.000000   \n",
              "75%                   2.000000              3.000000       2.000000   \n",
              "max                  19.000000             50.000000      55.000000   \n",
              "\n",
              "            children         babies  is_repeated_guest  \\\n",
              "count  119386.000000  119390.000000      119390.000000   \n",
              "mean        0.103890       0.007949           0.031912   \n",
              "std         0.398561       0.097436           0.175767   \n",
              "min         0.000000       0.000000           0.000000   \n",
              "25%         0.000000       0.000000           0.000000   \n",
              "50%         0.000000       0.000000           0.000000   \n",
              "75%         0.000000       0.000000           0.000000   \n",
              "max        10.000000      10.000000           1.000000   \n",
              "\n",
              "       previous_cancellations  previous_bookings_not_canceled  \\\n",
              "count           119390.000000                   119390.000000   \n",
              "mean                 0.087118                        0.137097   \n",
              "std                  0.844336                        1.497437   \n",
              "min                  0.000000                        0.000000   \n",
              "25%                  0.000000                        0.000000   \n",
              "50%                  0.000000                        0.000000   \n",
              "75%                  0.000000                        0.000000   \n",
              "max                 26.000000                       72.000000   \n",
              "\n",
              "       booking_changes          agent      company  days_in_waiting_list  \\\n",
              "count    119390.000000  103050.000000  6797.000000         119390.000000   \n",
              "mean          0.221124      86.693382   189.266735              2.321149   \n",
              "std           0.652306     110.774548   131.655015             17.594721   \n",
              "min           0.000000       1.000000     6.000000              0.000000   \n",
              "25%           0.000000       9.000000    62.000000              0.000000   \n",
              "50%           0.000000      14.000000   179.000000              0.000000   \n",
              "75%           0.000000     229.000000   270.000000              0.000000   \n",
              "max          21.000000     535.000000   543.000000            391.000000   \n",
              "\n",
              "                 adr  required_car_parking_spaces  total_of_special_requests  \n",
              "count  119390.000000                119390.000000              119390.000000  \n",
              "mean      101.831122                     0.062518                   0.571363  \n",
              "std        50.535790                     0.245291                   0.792798  \n",
              "min        -6.380000                     0.000000                   0.000000  \n",
              "25%        69.290000                     0.000000                   0.000000  \n",
              "50%        94.575000                     0.000000                   0.000000  \n",
              "75%       126.000000                     0.000000                   1.000000  \n",
              "max      5400.000000                     8.000000                   5.000000  "
            ],
            "text/html": [
              "\n",
              "  <div id=\"df-2a815c71-3f79-4a59-b1e0-71d5326ecb96\">\n",
              "    <div class=\"colab-df-container\">\n",
              "      <div>\n",
              "<style scoped>\n",
              "    .dataframe tbody tr th:only-of-type {\n",
              "        vertical-align: middle;\n",
              "    }\n",
              "\n",
              "    .dataframe tbody tr th {\n",
              "        vertical-align: top;\n",
              "    }\n",
              "\n",
              "    .dataframe thead th {\n",
              "        text-align: right;\n",
              "    }\n",
              "</style>\n",
              "<table border=\"1\" class=\"dataframe\">\n",
              "  <thead>\n",
              "    <tr style=\"text-align: right;\">\n",
              "      <th></th>\n",
              "      <th>is_canceled</th>\n",
              "      <th>lead_time</th>\n",
              "      <th>arrival_date_year</th>\n",
              "      <th>arrival_date_week_number</th>\n",
              "      <th>arrival_date_day_of_month</th>\n",
              "      <th>stays_in_weekend_nights</th>\n",
              "      <th>stays_in_week_nights</th>\n",
              "      <th>adults</th>\n",
              "      <th>children</th>\n",
              "      <th>babies</th>\n",
              "      <th>is_repeated_guest</th>\n",
              "      <th>previous_cancellations</th>\n",
              "      <th>previous_bookings_not_canceled</th>\n",
              "      <th>booking_changes</th>\n",
              "      <th>agent</th>\n",
              "      <th>company</th>\n",
              "      <th>days_in_waiting_list</th>\n",
              "      <th>adr</th>\n",
              "      <th>required_car_parking_spaces</th>\n",
              "      <th>total_of_special_requests</th>\n",
              "    </tr>\n",
              "  </thead>\n",
              "  <tbody>\n",
              "    <tr>\n",
              "      <th>count</th>\n",
              "      <td>119390.000000</td>\n",
              "      <td>119390.000000</td>\n",
              "      <td>119390.000000</td>\n",
              "      <td>119390.000000</td>\n",
              "      <td>119390.000000</td>\n",
              "      <td>119390.000000</td>\n",
              "      <td>119390.000000</td>\n",
              "      <td>119390.000000</td>\n",
              "      <td>119386.000000</td>\n",
              "      <td>119390.000000</td>\n",
              "      <td>119390.000000</td>\n",
              "      <td>119390.000000</td>\n",
              "      <td>119390.000000</td>\n",
              "      <td>119390.000000</td>\n",
              "      <td>103050.000000</td>\n",
              "      <td>6797.000000</td>\n",
              "      <td>119390.000000</td>\n",
              "      <td>119390.000000</td>\n",
              "      <td>119390.000000</td>\n",
              "      <td>119390.000000</td>\n",
              "    </tr>\n",
              "    <tr>\n",
              "      <th>mean</th>\n",
              "      <td>0.370416</td>\n",
              "      <td>104.011416</td>\n",
              "      <td>2016.156554</td>\n",
              "      <td>27.165173</td>\n",
              "      <td>15.798241</td>\n",
              "      <td>0.927599</td>\n",
              "      <td>2.500302</td>\n",
              "      <td>1.856403</td>\n",
              "      <td>0.103890</td>\n",
              "      <td>0.007949</td>\n",
              "      <td>0.031912</td>\n",
              "      <td>0.087118</td>\n",
              "      <td>0.137097</td>\n",
              "      <td>0.221124</td>\n",
              "      <td>86.693382</td>\n",
              "      <td>189.266735</td>\n",
              "      <td>2.321149</td>\n",
              "      <td>101.831122</td>\n",
              "      <td>0.062518</td>\n",
              "      <td>0.571363</td>\n",
              "    </tr>\n",
              "    <tr>\n",
              "      <th>std</th>\n",
              "      <td>0.482918</td>\n",
              "      <td>106.863097</td>\n",
              "      <td>0.707476</td>\n",
              "      <td>13.605138</td>\n",
              "      <td>8.780829</td>\n",
              "      <td>0.998613</td>\n",
              "      <td>1.908286</td>\n",
              "      <td>0.579261</td>\n",
              "      <td>0.398561</td>\n",
              "      <td>0.097436</td>\n",
              "      <td>0.175767</td>\n",
              "      <td>0.844336</td>\n",
              "      <td>1.497437</td>\n",
              "      <td>0.652306</td>\n",
              "      <td>110.774548</td>\n",
              "      <td>131.655015</td>\n",
              "      <td>17.594721</td>\n",
              "      <td>50.535790</td>\n",
              "      <td>0.245291</td>\n",
              "      <td>0.792798</td>\n",
              "    </tr>\n",
              "    <tr>\n",
              "      <th>min</th>\n",
              "      <td>0.000000</td>\n",
              "      <td>0.000000</td>\n",
              "      <td>2015.000000</td>\n",
              "      <td>1.000000</td>\n",
              "      <td>1.000000</td>\n",
              "      <td>0.000000</td>\n",
              "      <td>0.000000</td>\n",
              "      <td>0.000000</td>\n",
              "      <td>0.000000</td>\n",
              "      <td>0.000000</td>\n",
              "      <td>0.000000</td>\n",
              "      <td>0.000000</td>\n",
              "      <td>0.000000</td>\n",
              "      <td>0.000000</td>\n",
              "      <td>1.000000</td>\n",
              "      <td>6.000000</td>\n",
              "      <td>0.000000</td>\n",
              "      <td>-6.380000</td>\n",
              "      <td>0.000000</td>\n",
              "      <td>0.000000</td>\n",
              "    </tr>\n",
              "    <tr>\n",
              "      <th>25%</th>\n",
              "      <td>0.000000</td>\n",
              "      <td>18.000000</td>\n",
              "      <td>2016.000000</td>\n",
              "      <td>16.000000</td>\n",
              "      <td>8.000000</td>\n",
              "      <td>0.000000</td>\n",
              "      <td>1.000000</td>\n",
              "      <td>2.000000</td>\n",
              "      <td>0.000000</td>\n",
              "      <td>0.000000</td>\n",
              "      <td>0.000000</td>\n",
              "      <td>0.000000</td>\n",
              "      <td>0.000000</td>\n",
              "      <td>0.000000</td>\n",
              "      <td>9.000000</td>\n",
              "      <td>62.000000</td>\n",
              "      <td>0.000000</td>\n",
              "      <td>69.290000</td>\n",
              "      <td>0.000000</td>\n",
              "      <td>0.000000</td>\n",
              "    </tr>\n",
              "    <tr>\n",
              "      <th>50%</th>\n",
              "      <td>0.000000</td>\n",
              "      <td>69.000000</td>\n",
              "      <td>2016.000000</td>\n",
              "      <td>28.000000</td>\n",
              "      <td>16.000000</td>\n",
              "      <td>1.000000</td>\n",
              "      <td>2.000000</td>\n",
              "      <td>2.000000</td>\n",
              "      <td>0.000000</td>\n",
              "      <td>0.000000</td>\n",
              "      <td>0.000000</td>\n",
              "      <td>0.000000</td>\n",
              "      <td>0.000000</td>\n",
              "      <td>0.000000</td>\n",
              "      <td>14.000000</td>\n",
              "      <td>179.000000</td>\n",
              "      <td>0.000000</td>\n",
              "      <td>94.575000</td>\n",
              "      <td>0.000000</td>\n",
              "      <td>0.000000</td>\n",
              "    </tr>\n",
              "    <tr>\n",
              "      <th>75%</th>\n",
              "      <td>1.000000</td>\n",
              "      <td>160.000000</td>\n",
              "      <td>2017.000000</td>\n",
              "      <td>38.000000</td>\n",
              "      <td>23.000000</td>\n",
              "      <td>2.000000</td>\n",
              "      <td>3.000000</td>\n",
              "      <td>2.000000</td>\n",
              "      <td>0.000000</td>\n",
              "      <td>0.000000</td>\n",
              "      <td>0.000000</td>\n",
              "      <td>0.000000</td>\n",
              "      <td>0.000000</td>\n",
              "      <td>0.000000</td>\n",
              "      <td>229.000000</td>\n",
              "      <td>270.000000</td>\n",
              "      <td>0.000000</td>\n",
              "      <td>126.000000</td>\n",
              "      <td>0.000000</td>\n",
              "      <td>1.000000</td>\n",
              "    </tr>\n",
              "    <tr>\n",
              "      <th>max</th>\n",
              "      <td>1.000000</td>\n",
              "      <td>737.000000</td>\n",
              "      <td>2017.000000</td>\n",
              "      <td>53.000000</td>\n",
              "      <td>31.000000</td>\n",
              "      <td>19.000000</td>\n",
              "      <td>50.000000</td>\n",
              "      <td>55.000000</td>\n",
              "      <td>10.000000</td>\n",
              "      <td>10.000000</td>\n",
              "      <td>1.000000</td>\n",
              "      <td>26.000000</td>\n",
              "      <td>72.000000</td>\n",
              "      <td>21.000000</td>\n",
              "      <td>535.000000</td>\n",
              "      <td>543.000000</td>\n",
              "      <td>391.000000</td>\n",
              "      <td>5400.000000</td>\n",
              "      <td>8.000000</td>\n",
              "      <td>5.000000</td>\n",
              "    </tr>\n",
              "  </tbody>\n",
              "</table>\n",
              "</div>\n",
              "      <button class=\"colab-df-convert\" onclick=\"convertToInteractive('df-2a815c71-3f79-4a59-b1e0-71d5326ecb96')\"\n",
              "              title=\"Convert this dataframe to an interactive table.\"\n",
              "              style=\"display:none;\">\n",
              "        \n",
              "  <svg xmlns=\"http://www.w3.org/2000/svg\" height=\"24px\"viewBox=\"0 0 24 24\"\n",
              "       width=\"24px\">\n",
              "    <path d=\"M0 0h24v24H0V0z\" fill=\"none\"/>\n",
              "    <path d=\"M18.56 5.44l.94 2.06.94-2.06 2.06-.94-2.06-.94-.94-2.06-.94 2.06-2.06.94zm-11 1L8.5 8.5l.94-2.06 2.06-.94-2.06-.94L8.5 2.5l-.94 2.06-2.06.94zm10 10l.94 2.06.94-2.06 2.06-.94-2.06-.94-.94-2.06-.94 2.06-2.06.94z\"/><path d=\"M17.41 7.96l-1.37-1.37c-.4-.4-.92-.59-1.43-.59-.52 0-1.04.2-1.43.59L10.3 9.45l-7.72 7.72c-.78.78-.78 2.05 0 2.83L4 21.41c.39.39.9.59 1.41.59.51 0 1.02-.2 1.41-.59l7.78-7.78 2.81-2.81c.8-.78.8-2.07 0-2.86zM5.41 20L4 18.59l7.72-7.72 1.47 1.35L5.41 20z\"/>\n",
              "  </svg>\n",
              "      </button>\n",
              "      \n",
              "  <style>\n",
              "    .colab-df-container {\n",
              "      display:flex;\n",
              "      flex-wrap:wrap;\n",
              "      gap: 12px;\n",
              "    }\n",
              "\n",
              "    .colab-df-convert {\n",
              "      background-color: #E8F0FE;\n",
              "      border: none;\n",
              "      border-radius: 50%;\n",
              "      cursor: pointer;\n",
              "      display: none;\n",
              "      fill: #1967D2;\n",
              "      height: 32px;\n",
              "      padding: 0 0 0 0;\n",
              "      width: 32px;\n",
              "    }\n",
              "\n",
              "    .colab-df-convert:hover {\n",
              "      background-color: #E2EBFA;\n",
              "      box-shadow: 0px 1px 2px rgba(60, 64, 67, 0.3), 0px 1px 3px 1px rgba(60, 64, 67, 0.15);\n",
              "      fill: #174EA6;\n",
              "    }\n",
              "\n",
              "    [theme=dark] .colab-df-convert {\n",
              "      background-color: #3B4455;\n",
              "      fill: #D2E3FC;\n",
              "    }\n",
              "\n",
              "    [theme=dark] .colab-df-convert:hover {\n",
              "      background-color: #434B5C;\n",
              "      box-shadow: 0px 1px 3px 1px rgba(0, 0, 0, 0.15);\n",
              "      filter: drop-shadow(0px 1px 2px rgba(0, 0, 0, 0.3));\n",
              "      fill: #FFFFFF;\n",
              "    }\n",
              "  </style>\n",
              "\n",
              "      <script>\n",
              "        const buttonEl =\n",
              "          document.querySelector('#df-2a815c71-3f79-4a59-b1e0-71d5326ecb96 button.colab-df-convert');\n",
              "        buttonEl.style.display =\n",
              "          google.colab.kernel.accessAllowed ? 'block' : 'none';\n",
              "\n",
              "        async function convertToInteractive(key) {\n",
              "          const element = document.querySelector('#df-2a815c71-3f79-4a59-b1e0-71d5326ecb96');\n",
              "          const dataTable =\n",
              "            await google.colab.kernel.invokeFunction('convertToInteractive',\n",
              "                                                     [key], {});\n",
              "          if (!dataTable) return;\n",
              "\n",
              "          const docLinkHtml = 'Like what you see? Visit the ' +\n",
              "            '<a target=\"_blank\" href=https://colab.research.google.com/notebooks/data_table.ipynb>data table notebook</a>'\n",
              "            + ' to learn more about interactive tables.';\n",
              "          element.innerHTML = '';\n",
              "          dataTable['output_type'] = 'display_data';\n",
              "          await google.colab.output.renderOutput(dataTable, element);\n",
              "          const docLink = document.createElement('div');\n",
              "          docLink.innerHTML = docLinkHtml;\n",
              "          element.appendChild(docLink);\n",
              "        }\n",
              "      </script>\n",
              "    </div>\n",
              "  </div>\n",
              "  "
            ]
          },
          "metadata": {},
          "execution_count": 18
        }
      ]
    },
    {
      "cell_type": "markdown",
      "source": [
        "### Variables Description"
      ],
      "metadata": {
        "id": "BErWZEkw1qUd"
      }
    },
    {
      "cell_type": "markdown",
      "source": [
        "There are total 32 variables and the description of the variables in dataset is below:-\n",
        "\n",
        "#### 1)hotel:- There are two types fo hotel exist in the given dataset, it can be either a \"Resort Hotel\" or a \"City Hotel\".\n",
        "#### 2) is_canceled:- In this the binary variable 0 indicates that the reservation was not canceled and 1 indicates that it was canceled.\n",
        "#### 3) lead_time:-  It is the numerical data which indicates the number of days between the booking date and the arrival date.\n",
        "#### 4) arrival_date_year:- It is the numerical data which indicates the year of the arrival date.\n",
        "#### 5) arrival_date_month:-  It is the categorical  data which indicates the month of the arrival date.\n",
        "#### 6) arrival_date_week_number:- It is the numerical data which indicates the week number of the arrival date.\n",
        "#### 7) arrival_date_day_of_month:- It is the numerical data which indicates the day of the month of the arrival date.\n",
        "#### 8)stays_in_weekend_nights:-It is the numerical data which indicates the number of weekend nights (Saturday or Sunday) the guest stayed.\n",
        "#### 9) stays_in_week_nights:- It is the numerical data which indicates the number of week nights (Monday to Friday) the guest stayed.\n",
        "#### 10)adults:- It is the numerical data which indicates the number of adults.\n",
        "#### 11) children:- It is the numerical data which indicates the number of children.\n",
        "#### 12) babies:- It is the numerical data which indicates the number of babies.\n",
        "#### 13) meal:- It is the categorical  data which indicates what  type of meal booked. It can be \"Undefined/SC\" (no meal package), \"BB\" (Bed & Breakfast), \"HB\" (Half Board - breakfast and one other meal), \"FB\" (Full Board - breakfast, lunch, and dinner), or \"AI\" (All-Inclusive).\n",
        "#### 14) country:- It is the categorical  data which indicates the country origin of the guest.\n",
        "#### 15) market_segment:- It is the categorical  data which indicates the market segment designation.\n",
        "#### 16) distribution_channel:- It is the categorical  data which indicates the booking distribution channel.\n",
        "#### 17) is_repeated_guest:- In this the binary variable 0 indicates that the guest is a first-time guest and  1 indicates that the the guest is a repeated guest.\n",
        "#### 18) previous_cancellations:- Number of previous bookings canceled by the guest.\n",
        "#### 19) previous_bookings_not_canceled:- Number of previous bookings not canceled by the guest.\n",
        "#### 20) reserved_room_type:- It is the categorical  data which indicates the type of room originally reserved.\n",
        "#### 21) assigned_room_type:- It is the categorical  data which indicates the type of room assigned to the guest at check-in.\n",
        "#### 22) booking_changes:- It is the numerical data which indicates the number of changes made to the booking before arrival.\n",
        "#### 23) deposit_type:- It is the categorical  data the type of deposit made for the reservation.\n",
        "#### 24) agent:- It is the numerical data which indicates the ID of the travel agency.\n",
        "#### 25) company:- It is the numerical data which indicates the ID of the company.\n",
        "#### 26) days_in_waiting_list:- It is the numerical data which indicates the number of days the booking was on the waiting list.\n",
        "#### 27) customer_type:-  It is the categorical  data which indicates the type of booking customer. It can be \"Transient\" (individual booking), \"Contract\" (contracted group or company), \"Transient-Party\" (group booking), or \"Group\" (group booking without a specific contract).\n",
        "#### 28) adr:- It is the numerical data which indicates the average daily rate (total amount divided by the number of staying nights).\n",
        "#### 29) required_car_parking_spaces:-  It is the numerical data which indicates the number of car parking spaces required by the guest.\n",
        "#### 30) total_of_special_requests:-  It is the numerical data which indicates the number of special requests made by the guest.\n",
        "#### 31) reservation_status:- It is the categorical  data which indicates the current status of the reservation. It can be \"Canceled\" (the reservation was canceled), \"Check-Out\" (the guest has checked out), or \"No-Show\" (the guest did not show up and the reservation was marked as a no-show).\n",
        "#### 32) reservation_status_date:- It is the categorical  data which indicates the date at which the reservation status was last updated.\n"
      ],
      "metadata": {
        "id": "p2qR_rtRA9Mj"
      }
    },
    {
      "cell_type": "markdown",
      "source": [
        "### Check Unique Values for each variable."
      ],
      "metadata": {
        "id": "U9MaClHzI_8L"
      }
    },
    {
      "cell_type": "code",
      "source": [
        "# Check Unique Values for each variable.\n",
        "data_set.nunique()"
      ],
      "metadata": {
        "colab": {
          "base_uri": "https://localhost:8080/"
        },
        "id": "NO4HESZGJAqP",
        "outputId": "8f86954d-c83b-47f3-9668-a46c1d7f1d3e"
      },
      "execution_count": 19,
      "outputs": [
        {
          "output_type": "execute_result",
          "data": {
            "text/plain": [
              "hotel                                2\n",
              "is_canceled                          2\n",
              "lead_time                          479\n",
              "arrival_date_year                    3\n",
              "arrival_date_month                  12\n",
              "arrival_date_week_number            53\n",
              "arrival_date_day_of_month           31\n",
              "stays_in_weekend_nights             17\n",
              "stays_in_week_nights                35\n",
              "adults                              14\n",
              "children                             5\n",
              "babies                               5\n",
              "meal                                 5\n",
              "country                            177\n",
              "market_segment                       8\n",
              "distribution_channel                 5\n",
              "is_repeated_guest                    2\n",
              "previous_cancellations              15\n",
              "previous_bookings_not_canceled      73\n",
              "reserved_room_type                  10\n",
              "assigned_room_type                  12\n",
              "booking_changes                     21\n",
              "deposit_type                         3\n",
              "agent                              333\n",
              "company                            352\n",
              "days_in_waiting_list               128\n",
              "customer_type                        4\n",
              "adr                               8879\n",
              "required_car_parking_spaces          5\n",
              "total_of_special_requests            6\n",
              "reservation_status                   3\n",
              "reservation_status_date            926\n",
              "dtype: int64"
            ]
          },
          "metadata": {},
          "execution_count": 19
        }
      ]
    },
    {
      "cell_type": "markdown",
      "source": [
        "## 3. ***Data Wrangling***"
      ],
      "metadata": {
        "id": "tnPbfVzxSHfj"
      }
    },
    {
      "cell_type": "markdown",
      "source": [
        "### Data Wrangling Code"
      ],
      "metadata": {
        "id": "U0xz4nvVSMC4"
      }
    },
    {
      "cell_type": "code",
      "source": [
        "# Write your code to make your dataset analysis ready.\n",
        "data_set = data_set.drop_duplicates()\n",
        "\n",
        "data_set = data_set[((data_set['adults'] + data_set['children'] + data_set['babies'] != 0) & (data_set['is_canceled']==0)) | ((data_set['adults'] + data_set['children'] + data_set['babies'] == 0) & (data_set['is_canceled']==1))]\n",
        "\n",
        "# Impute the missing values with others in the country column\n",
        "data_set.country.fillna('Others', inplace=True)\n",
        "# Impute the missing values with 0 in the children column\n",
        "data_set.children.fillna(0, inplace=True)\n",
        "# Impute the missing values with the mean in the agent column\n",
        "data_set.agent.fillna(data_set.agent.mean(), inplace=True)\n"
      ],
      "metadata": {
        "id": "G-Ac3x_GQwAy"
      },
      "execution_count": 20,
      "outputs": []
    },
    {
      "cell_type": "code",
      "source": [
        "#check the data set again\n",
        "data_set.isna().sum().sort_values(ascending=False)"
      ],
      "metadata": {
        "colab": {
          "base_uri": "https://localhost:8080/"
        },
        "id": "qWLVZyOnRhPu",
        "outputId": "6a41e11c-18d7-4214-ef2e-81102fc5d589"
      },
      "execution_count": 21,
      "outputs": [
        {
          "output_type": "execute_result",
          "data": {
            "text/plain": [
              "company                           58564\n",
              "hotel                                 0\n",
              "is_canceled                           0\n",
              "reservation_status                    0\n",
              "total_of_special_requests             0\n",
              "required_car_parking_spaces           0\n",
              "adr                                   0\n",
              "customer_type                         0\n",
              "days_in_waiting_list                  0\n",
              "agent                                 0\n",
              "deposit_type                          0\n",
              "booking_changes                       0\n",
              "assigned_room_type                    0\n",
              "reserved_room_type                    0\n",
              "previous_bookings_not_canceled        0\n",
              "previous_cancellations                0\n",
              "is_repeated_guest                     0\n",
              "distribution_channel                  0\n",
              "market_segment                        0\n",
              "country                               0\n",
              "meal                                  0\n",
              "babies                                0\n",
              "children                              0\n",
              "adults                                0\n",
              "stays_in_week_nights                  0\n",
              "stays_in_weekend_nights               0\n",
              "arrival_date_day_of_month             0\n",
              "arrival_date_week_number              0\n",
              "arrival_date_month                    0\n",
              "arrival_date_year                     0\n",
              "lead_time                             0\n",
              "reservation_status_date               0\n",
              "dtype: int64"
            ]
          },
          "metadata": {},
          "execution_count": 21
        }
      ]
    },
    {
      "cell_type": "code",
      "source": [
        "data_set.shape"
      ],
      "metadata": {
        "colab": {
          "base_uri": "https://localhost:8080/"
        },
        "id": "UKtOpOPnT0OI",
        "outputId": "119eb5a2-8c18-472b-fe55-04b29ee92117"
      },
      "execution_count": 22,
      "outputs": [
        {
          "output_type": "execute_result",
          "data": {
            "text/plain": [
              "(63237, 32)"
            ]
          },
          "metadata": {},
          "execution_count": 22
        }
      ]
    },
    {
      "cell_type": "markdown",
      "source": [
        "### What all manipulations have you done and insights you found?"
      ],
      "metadata": {
        "id": "Zhxsu5PKUq8B"
      }
    },
    {
      "cell_type": "markdown",
      "source": [
        "##Data manipulation that can be done is described below:-\n",
        "\n",
        "### 1) Data Cleaning:\n",
        "Dropping Duplicate Rows: The drop_duplicates() function is used to remove any duplicate rows from the dataset. This ensures that each row is unique.\n",
        "### 2) Data Filtering:\n",
        "Filtering Rows: The condition (data_set['adults'] + data_set['children'] + data_set['babies'] != 0) & (data_set['is_canceled']==0) is used to filter the rows where the sum of 'adults', 'children', and 'babies' is not zero and 'is_canceled' is zero. This subset of rows represents valid bookings.\n",
        "The condition (data_set['adults'] + data_set['children'] + data_set['babies'] == 0) & (data_set['is_canceled']==1) filters the rows where the sum of 'adults', 'children', and 'babies' is zero and 'is_canceled' is one. These rows represent canceled bookings without any guests.\n",
        "\n",
        "### 3) Data Imputation:\n",
        "Filling Missing Values: Missing values in the 'country' column are filled with the category 'Others'. Missing values in the 'children' column are imputed with zero. Missing values in the 'agent' column are filled with the mean value of the non-missing values in that column.\n",
        "\n",
        "##Insights from these manipulations:-\n",
        "\n",
        "#####1) The filtered dataset includes only valid bookings (non-canceled with guests) and canceled bookings without any guests.\n",
        "##### 2) The 'company' column is not relevant for the analysis due to the high percentage of missing values, so it is dropped automatically.\n",
        "##### 3) Missing values in the 'country' column are imputed with the 'Others' category, which allows for further analysis without excluding those records.\n",
        "##### 4) Missing values in the 'children' column are imputed with zero, indicating that no children were specified for those bookings.Missing values in the 'agent' column are filled with the mean value, providing a reasonable estimation based on the available data."
      ],
      "metadata": {
        "id": "UgAAqdTebcJT"
      }
    },
    {
      "cell_type": "markdown",
      "source": [
        "## ***4. Data Vizualization, Storytelling & Experimenting with charts : Understand the relationships between variables***"
      ],
      "metadata": {
        "id": "13nCwVcEMguk"
      }
    },
    {
      "cell_type": "markdown",
      "source": [
        "#### Chart - 1"
      ],
      "metadata": {
        "id": "XTsmvWS8Muzb"
      }
    },
    {
      "cell_type": "code",
      "source": [
        "# Chart - 1 visualization code"
      ],
      "metadata": {
        "id": "REUBU24VUcxq"
      },
      "execution_count": 23,
      "outputs": []
    },
    {
      "cell_type": "code",
      "source": [
        "#Calculate the peak months or seasons for hotel bookings\n",
        "\n",
        "# Group the data by arrival_date_month and count the number of bookings\n",
        "bookings_by_month = data_set.groupby('arrival_date_month').size().reset_index(name='count')\n",
        "\n",
        "# Define the order of months for proper sorting in the plot\n",
        "month_order = ['January', 'February', 'March', 'April', 'May', 'June', 'July', 'August', 'September', 'October', 'November', 'December']\n",
        "\n",
        "# Plot the bookings by month\n",
        "plt.figure(figsize=(10, 6))\n",
        "sns.barplot(x='arrival_date_month', y='count', data=bookings_by_month, order=month_order)\n",
        "plt.xlabel('Month')\n",
        "plt.ylabel('Number of Bookings')\n",
        "plt.title('Distribution of Bookings by Month')\n",
        "plt.xticks(rotation=35)\n",
        "plt.show()\n"
      ],
      "metadata": {
        "colab": {
          "base_uri": "https://localhost:8080/",
          "height": 606
        },
        "id": "y-Wt7n_DMiHC",
        "outputId": "2a21c10e-98ad-49d6-d6a3-a6c4688e1dbf"
      },
      "execution_count": 24,
      "outputs": [
        {
          "output_type": "display_data",
          "data": {
            "text/plain": [
              "<Figure size 1000x600 with 1 Axes>"
            ],
            "image/png": "[encoded data removed]"
          },
          "metadata": {}
        }
      ]
    },
    {
      "cell_type": "markdown",
      "source": [
        "##### 1. Why did you pick the specific chart?"
      ],
      "metadata": {
        "id": "7hLq0W8eU3x2"
      }
    },
    {
      "cell_type": "markdown",
      "source": [
        "#####  Enlightened the peak months or seasons for bookings helps hotels in demand planning. They can allocate resources, such as staff, inventory, and facilities, more efficiently during high-demand periods.\n",
        "##### Peak months or seasons often correspond to higher occupancy rates and room rates.By identifying these periods, hotels can optimize their pricing strategies and maximize revenue generation.\n",
        "##### Knowing the peak months or seasons allows hotels to focus their marketing efforts and promotional campaigns during these periods. They can target specific customer segments, offer tailored packages, and implement effective marketing strategies to attract more bookings."
      ],
      "metadata": {
        "id": "umolR3X9U7Ra"
      }
    },
    {
      "cell_type": "markdown",
      "source": [
        "##### 2. What is/are the insight(s) found from the chart?"
      ],
      "metadata": {
        "id": "-5bSfpsAXAri"
      }
    },
    {
      "cell_type": "markdown",
      "source": [
        "The insights obtained from analyzing the peak months or seasons for bookings can help hotel businesses make informed decisions and implement strategies to capitalize on high-demand periods. It allows them to optimize revenue, improve operational efficiency, and enhance overall customer satisfaction. Additionally, identifying patterns or trends in booking behavior across different months or seasons can provide valuable insights into customer preferences, market dynamics, and the impact of external factors (e.g., holidays, events) on booking patterns."
      ],
      "metadata": {
        "id": "qA0DptN7XHBG"
      }
    },
    {
      "cell_type": "markdown",
      "source": [
        "##### 3. Will the gained insights help creating a positive business impact?\n",
        "Are there any insights that lead to negative growth? Justify with specific reason."
      ],
      "metadata": {
        "id": "-TvikoDQXpHA"
      }
    },
    {
      "cell_type": "markdown",
      "source": [
        "Well, the mentioned insights have both positive and negative impact.\n",
        "#### Positive impact:-\n",
        "##### Identifying the peak booking months or seasons allows hotels to capitalize on high-demand periods and generate increased revenue. They can adjust their pricing strategies, offer special packages or promotions, and maximize their occupancy rates during those times.\n",
        "##### Knowing the peak booking periods allows hotels to allocate their resources effectively. They can adjust staffing levels, manage inventory, and optimize operations to meet the increased demand during those times. This ensures that the hotel is adequately prepared to provide quality service to guests during busy periods.\n",
        "#####  Understanding the peak months or seasons enables hotels to focus their marketing and sales efforts during those periods.\n",
        "\n",
        "#### Negative impact:-\n",
        "##### Peak periods can lead to overcrowding, longer wait times, and a strain on hotel resources. This may result in a decline in service quality, leading to dissatisfied guests and negative reviews.\n",
        "#####  During peak periods, guests may be more price-sensitive, expecting competitive rates and value for their money. If the hotel fails to meet these expectations, it could result in lower bookings and revenue.\n",
        "#####  Peak periods attract more competition among hotels. Other properties may also offer competitive rates and promotions during these times, making it harder for a hotel to stand out and secure bookings."
      ],
      "metadata": {
        "id": "8IJyyfTUXyHz"
      }
    },
    {
      "cell_type": "markdown",
      "source": [
        "#### Chart - 2"
      ],
      "metadata": {
        "id": "eSjXxZPJaewJ"
      }
    },
    {
      "cell_type": "code",
      "source": [
        "# Chart - 2 visualization code"
      ],
      "metadata": {
        "id": "S2yAg2PTb25o"
      },
      "execution_count": 25,
      "outputs": []
    },
    {
      "cell_type": "code",
      "source": [
        "#Calculate the most popular type room types booked by customers\n",
        "\n",
        "# Filter the dataset to include only relevant columns\n",
        "room_types = data_set['reserved_room_type']\n",
        "\n",
        "# Calculate the count of each room type\n",
        "room_type_counts = room_types.value_counts()\n",
        "\n",
        "# Sort the room types based on counts in descending order\n",
        "popular_room_types = room_type_counts.sort_values(ascending=False)\n",
        "\n",
        "# Display the most popular room types\n",
        "print(popular_room_types)\n",
        "\n",
        "# Optionally, visualize the results with a bar chart\n",
        "plt.bar(popular_room_types.index, popular_room_types.values)\n",
        "plt.xlabel('Room Types')\n",
        "plt.ylabel('Booking Count')\n",
        "plt.title('Most Popular Room Types Booked by Customers')\n",
        "plt.xticks(rotation=45)\n",
        "plt.show()"
      ],
      "metadata": {
        "colab": {
          "base_uri": "https://localhost:8080/",
          "height": 666
        },
        "id": "9gD6_TAncQm3",
        "outputId": "53351750-b1ad-46eb-e950-90e797bcee64"
      },
      "execution_count": 26,
      "outputs": [
        {
          "output_type": "stream",
          "name": "stdout",
          "text": [
            "A    41759\n",
            "D    12142\n",
            "E     4393\n",
            "F     1969\n",
            "G     1313\n",
            "B      680\n",
            "C      618\n",
            "H      353\n",
            "P        6\n",
            "L        4\n",
            "Name: reserved_room_type, dtype: int64\n"
          ]
        },
        {
          "output_type": "display_data",
          "data": {
            "text/plain": [
              "<Figure size 640x480 with 1 Axes>"
            ],
            "image/png": "[encoded data removed]"
          },
          "metadata": {}
        }
      ]
    },
    {
      "cell_type": "markdown",
      "source": [
        "##### 1. Why did you pick the specific chart?"
      ],
      "metadata": {
        "id": "bJ61OHcGdRc7"
      }
    },
    {
      "cell_type": "markdown",
      "source": [
        "#####Knowing the most popular room types gives insights into customer preferences and their specific needs.\n",
        "##### Identifying the popular room types allows hotels to optimize their revenue by pricing those rooms strategically. They can allocate more resources to promote and market the popular room types, potentially increasing their bookings and revenue."
      ],
      "metadata": {
        "id": "qkhjcQnGdeBK"
      }
    },
    {
      "cell_type": "markdown",
      "source": [
        "##### 2. What is/are the insight(s) found from the chart?"
      ],
      "metadata": {
        "id": "lenVTGiMdRyk"
      }
    },
    {
      "cell_type": "markdown",
      "source": [
        "The insights gained from the analysis can be used in marketing and promotional efforts. Hotels can highlight the popular room types in their advertising and marketing campaigns to attract more customers and increase bookings."
      ],
      "metadata": {
        "id": "-W82Bf0LfKAi"
      }
    },
    {
      "cell_type": "markdown",
      "source": [
        "##### 3. Will the gained insights help creating a positive business impact?\n",
        "Are there any insights that lead to negative growth? Justify with specific reason."
      ],
      "metadata": {
        "id": "XVk5vydKdSU0"
      }
    },
    {
      "cell_type": "markdown",
      "source": [
        "#####By offering the most popular room types, hotels can meet customer expectations and enhance guest satisfaction. This can lead to positive reviews, repeat bookings, and positive word-of-mouth referrals.\n",
        "##### Highlighting the popular room types can give hotels a competitive edge. They can promote these rooms in their marketing efforts, differentiate themselves from competitors, and attract more customers seeking specific room types."
      ],
      "metadata": {
        "id": "adde_-HcfyTV"
      }
    },
    {
      "cell_type": "markdown",
      "source": [
        "#### Chart - 3"
      ],
      "metadata": {
        "id": "UMhbqiwFlI6M"
      }
    },
    {
      "cell_type": "code",
      "source": [
        "# Chart - 3 visualization code"
      ],
      "metadata": {
        "id": "urQ4l3Inswe2"
      },
      "execution_count": 28,
      "outputs": []
    },
    {
      "cell_type": "code",
      "source": [
        "#Caluculate the lead time that impact the cancellation rate\n",
        "\n",
        "# Group the data by lead time and calculate the cancellation rate\n",
        "lead_time_cancellation_rate = data_set.groupby('lead_time')['is_canceled'].mean()\n",
        "\n",
        "# Plot the lead time vs cancellation rate\n",
        "plt.figure(figsize=(12, 6))\n",
        "sns.lineplot(x=lead_time_cancellation_rate.index, y=lead_time_cancellation_rate.values)\n",
        "plt.xlabel('Lead Time')\n",
        "plt.ylabel('Cancellation Rate')\n",
        "plt.title('Lead Time vs Cancellation Rate')\n",
        "plt.show()"
      ],
      "metadata": {
        "colab": {
          "base_uri": "https://localhost:8080/",
          "height": 564
        },
        "id": "vLLOgJYalJyp",
        "outputId": "d8ba5dd2-0dac-4d49-a342-09ad478645cd"
      },
      "execution_count": 29,
      "outputs": [
        {
          "output_type": "display_data",
          "data": {
            "text/plain": [
              "<Figure size 1200x600 with 1 Axes>"
            ],
            "image/png": "[encoded data removed]"
          },
          "metadata": {}
        }
      ]
    },
    {
      "cell_type": "markdown",
      "source": [
        "##### 1. Why did you pick the specific chart?"
      ],
      "metadata": {
        "id": "fJBt2TWpoc29"
      }
    },
    {
      "cell_type": "markdown",
      "source": [
        " ##### The chart allows us to observe how the cancellation rate varies across different lead time intervals. It helps us identify any trends or patterns in cancellation behavior based on the time gap between booking and arrival.\n",
        " ##### The chart helps in developing revenue management strategies. For example, if there is a higher cancellation rate for bookings with shorter lead times, the hotel can implement policies such as stricter cancellation policies or require prepayment for last-minute bookings to reduce the impact of cancellations on revenue."
      ],
      "metadata": {
        "id": "oiCAbTg3of1R"
      }
    },
    {
      "cell_type": "markdown",
      "source": [
        "##### 2. What is/are the insight(s) found from the chart?"
      ],
      "metadata": {
        "id": "yv7WXiYtpj-Z"
      }
    },
    {
      "cell_type": "code",
      "source": [],
      "metadata": {
        "id": "7z8JRIxxscKr"
      },
      "execution_count": null,
      "outputs": []
    },
    {
      "cell_type": "markdown",
      "source": [
        "##### The chart reveals that there is a clear relationship between lead time and the likelihood of cancellations. As lead time increases, the cancellation rate tends to decrease. This suggests that guests who book well in advance are less likely to cancel their reservations compared to those with shorter lead times.\n",
        "##### By analyzing the cancellation rate at different lead time intervals, hotels can identify optimal lead time ranges that minimize cancellations. This insight can help hotels implement strategies to encourage guests to book within those optimal lead time ranges, such as offering early bird discounts, special promotions, or targeted marketing campaigns."
      ],
      "metadata": {
        "id": "iUwTEK_SqNOo"
      }
    },
    {
      "cell_type": "markdown",
      "source": [
        "\n",
        "##### 3. Will the gained insights help creating a positive business impact?\n",
        "Are there any insights that lead to negative growth? Justify with specific reason."
      ],
      "metadata": {
        "id": "CYUkdJ2vq8DZ"
      }
    },
    {
      "cell_type": "markdown",
      "source": [
        "#### Positive impact:\n",
        "##### Longer lead times are associated with lower cancellation rates, indicating that guests who book well in advance are more likely to follow through with their reservations. This can have a positive impact on hotel revenue and occupancy rates, as bookings with longer lead times are more reliable and result in fewer cancellations.\n",
        "##### By optimizing lead time and encouraging guests to book further in advance, hotels can reduce cancellations and ensure a more stable occupancy rate. This can lead to improved revenue management and operational efficiency.\n",
        "#### Negative impact:\n",
        "##### If the cancellation rate remains high across all lead time intervals, it can indicate a broader issue with guest satisfaction, booking policies, or other factors that lead to cancellations. Addressing and reducing the cancellation rate becomes crucial to avoid negative impacts on revenue and guest satisfaction."
      ],
      "metadata": {
        "id": "6Axp2nzKrVu9"
      }
    },
    {
      "cell_type": "markdown",
      "source": [
        "#### Chart - 4"
      ],
      "metadata": {
        "id": "wEw486ZNtgeq"
      }
    },
    {
      "cell_type": "code",
      "source": [
        "# Chart - 4 visualization code"
      ],
      "metadata": {
        "id": "V8QszyMrpkuJ"
      },
      "execution_count": 30,
      "outputs": []
    },
    {
      "cell_type": "code",
      "source": [
        "#Calculate the specific market segments that contribute significantly to the hotel's revenue\n",
        "\n",
        "# Calculate the total revenue by market segment\n",
        "revenue_by_segment = data_set.groupby('market_segment')['adr'].sum().sort_values(ascending=False)\n",
        "\n",
        "# Plot the total revenue by market segment\n",
        "plt.figure(figsize=(10, 6))\n",
        "revenue_by_segment.plot(kind='bar')\n",
        "plt.title(\"Total Revenue by Market Segment\")\n",
        "plt.xlabel(\"Market Segment\")\n",
        "plt.ylabel(\"Total Revenue\")\n",
        "plt.show()"
      ],
      "metadata": {
        "colab": {
          "base_uri": "https://localhost:8080/",
          "height": 662
        },
        "id": "BRjGIbo7tnqp",
        "outputId": "36bce2a6-d752-4bff-a077-c9cb1326acc7"
      },
      "execution_count": 32,
      "outputs": [
        {
          "output_type": "display_data",
          "data": {
            "text/plain": [
              "<Figure size 1000x600 with 1 Axes>"
            ],
            "image/png": "[encoded data removed]"
          },
          "metadata": {}
        }
      ]
    },
    {
      "cell_type": "markdown",
      "source": [
        "##### 1. Why did you pick the specific chart?"
      ],
      "metadata": {
        "id": "fs3LeqGLuxbm"
      }
    },
    {
      "cell_type": "markdown",
      "source": [
        "##### The bar chart presents the revenue data in a straightforward manner, with each market segment represented by a distinct bar. This simplicity makes it easier to interpret and communicate the findings to stakeholders.\n",
        "##### By analyzing the revenue distribution across market segments, you can easily identify that the **OnlineTA** market segments contribute significantly to the hotel's revenue."
      ],
      "metadata": {
        "id": "Nzvg3tSru2f3"
      }
    },
    {
      "cell_type": "markdown",
      "source": [
        "##### 2. What is/are the insight(s) found from the chart?"
      ],
      "metadata": {
        "id": "y6GgrWMWu3HJ"
      }
    },
    {
      "cell_type": "markdown",
      "source": [
        "##### The chart helps to identify the market segments that contribute the most to the hotel's revenue. It highlights the **OnlineTA** segments that generate a significant portion of the overall revenue, indicating their importance to the business.\n",
        "##### The chart may reveal market segments that contribute relatively less to the overall revenue. This insight can prompt further analysis to understand the reasons behind their lower revenue contribution, such as ineffective marketing strategies.\n"
      ],
      "metadata": {
        "id": "kA0E3Joeu7qV"
      }
    },
    {
      "cell_type": "markdown",
      "source": [
        "##### 3. Will the gained insights help creating a positive business impact?\n",
        "Are there any insights that lead to negative growth? Justify with specific reason."
      ],
      "metadata": {
        "id": "Q97qktV8u77h"
      }
    },
    {
      "cell_type": "markdown",
      "source": [
        "#### Positive Impact:\n",
        "\n",
        "#####  By identifying the market segments that contribute significantly to the hotel's revenue, the insights allow for developing targeted marketing strategies to attract and retain customers from those segments. This focused approach can lead to increased customer engagement, higher bookings, and ultimately, improved revenue.\n",
        "#### Negative Growth:\n",
        "#####  The analysis reveals that the hotel's revenue heavily relies on a single market segment i.e, **OnlineTA** , it poses a risk to the business. Any downturn or decline in that segment's demand or spending power could significantly impact the hotel's revenue and overall growth. In such cases, diversification of revenue sources becomes crucial to mitigate the risk of negative growth."
      ],
      "metadata": {
        "id": "R1yX1sODu3fG"
      }
    },
    {
      "cell_type": "markdown",
      "source": [
        "#### Chart - 5"
      ],
      "metadata": {
        "id": "DAvYS-A9xvl6"
      }
    },
    {
      "cell_type": "code",
      "source": [
        "# Chart - 5 visualization code"
      ],
      "metadata": {
        "id": "ZuADinOJxv0D"
      },
      "execution_count": 35,
      "outputs": []
    },
    {
      "cell_type": "code",
      "source": [
        "# Count the occurrences of each meal preference\n",
        "meal_counts = data_set['meal'].value_counts()\n",
        "\n",
        "# Plot the horizontal bar chart\n",
        "plt.figure(figsize=(10, 6))\n",
        "meal_counts.plot(kind='barh')\n",
        "plt.title('Meal Preferences of Guests')\n",
        "plt.xlabel('Count')\n",
        "plt.ylabel('Meal Preference')\n",
        "plt.show()"
      ],
      "metadata": {
        "colab": {
          "base_uri": "https://localhost:8080/",
          "height": 564
        },
        "id": "VM_TuB_Xx-Iz",
        "outputId": "ad0f7167-0969-484c-a402-0f45ae8d2ff1"
      },
      "execution_count": 50,
      "outputs": [
        {
          "output_type": "display_data",
          "data": {
            "text/plain": [
              "<Figure size 1000x600 with 1 Axes>"
            ],
            "image/png": "[encoded data removed]"
          },
          "metadata": {}
        }
      ]
    },
    {
      "cell_type": "markdown",
      "source": [
        "##### 1. Why did you pick the specific chart?"
      ],
      "metadata": {
        "id": "xKjmKvLex_v6"
      }
    },
    {
      "cell_type": "markdown",
      "source": [
        "##### By knowing the most common meal preferences, the hotel can tailor their menu offerings to cater to the majority of their guests' preferences. This can enhance guest satisfaction and dining experience.\n",
        "##### Based on the horizontal bar chart, the most common meal preference among guests appears to be \"BB\" (Bed & Breakfast). This preference has the highest frequency count, indicating that a significant number of guests prefer this meal option"
      ],
      "metadata": {
        "id": "yjba5VKPx_-k"
      }
    },
    {
      "cell_type": "markdown",
      "source": [
        "##### 2. What is/are the insight(s) found from the chart?"
      ],
      "metadata": {
        "id": "b4E7P3v8yAKd"
      }
    },
    {
      "cell_type": "markdown",
      "source": [
        "##### The chart provides a visual representation of the frequency or occurrence of different meal preferences among guests and it allows for easy comparison and identification of the top meal preferences.\n",
        "##### The hotel can identify the dominant meal preferences and focus on catering to those preferences to meet guest expectations."
      ],
      "metadata": {
        "id": "3w2NtKb2yAUp"
      }
    },
    {
      "cell_type": "markdown",
      "source": [
        "##### 3. Will the gained insights help creating a positive business impact?\n",
        "Are there any insights that lead to negative growth? Justify with specific reason."
      ],
      "metadata": {
        "id": "K5ZWB9K7yAfM"
      }
    },
    {
      "cell_type": "markdown",
      "source": [
        "#### Positive Impact:\n",
        "##### By understanding and catering to the most common meal preferences, the hotel can enhance customer satisfaction. Meeting guests' preferences can lead to positive reviews, repeat visits, and positive word-of-mouth, ultimately driving customer loyalty and attracting new customers.\n",
        "##### By focusing on popular meal preferences, the hotel can optimize its menu offerings, pricing, and inventory management. This can result in increased sales, higher average spend per guest, and improved overall revenue generation.\n",
        "#### Negative impact:\n",
        "##### If the hotel does not align its offerings with the popular meal preferences, it may miss out on potential revenue opportunities. Guests may opt for alternative dining options that cater to their preferences, resulting in lost business for the hotel."
      ],
      "metadata": {
        "id": "baVNhOtY5p1D"
      }
    }
  ]
}